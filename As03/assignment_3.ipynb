{
 "cells": [
  {
   "cell_type": "code",
   "execution_count": 1,
   "id": "e98970c7",
   "metadata": {},
   "outputs": [
    {
     "name": "stdout",
     "output_type": "stream",
     "text": [
      "(891,)\n",
      "     PassengerId  Pclass  Sex   Age  SibSp  Parch     Fare  Embarked\n",
      "0              1       3    1  22.0      1      0   7.2500       0.0\n",
      "1              2       1    0  38.0      1      0  71.2833       2.0\n",
      "2              3       3    0  26.0      0      0   7.9250       0.0\n",
      "3              4       1    0  35.0      1      0  53.1000       0.0\n",
      "4              5       3    1  35.0      0      0   8.0500       0.0\n",
      "..           ...     ...  ...   ...    ...    ...      ...       ...\n",
      "886          887       2    1  27.0      0      0  13.0000       0.0\n",
      "887          888       1    0  19.0      0      0  30.0000       0.0\n",
      "888          889       3    0   0.0      1      2  23.4500       0.0\n",
      "889          890       1    1  26.0      0      0  30.0000       2.0\n",
      "890          891       3    1  32.0      0      0   7.7500       1.0\n",
      "\n",
      "[891 rows x 8 columns]\n",
      "(418, 8)\n",
      "(418,)\n"
     ]
    }
   ],
   "source": [
    "import pandas as pd\n",
    "from sklearn.naive_bayes import MultinomialNB\n",
    "\n",
    "#Read CSV Files\n",
    "trainData = pd.read_csv('titanictrain.csv')\n",
    "testData = pd.read_csv('titanictest.csv')\n",
    "\n",
    "#Get Labels and remove them from Train data\n",
    "YTrain = trainData.Survived;\n",
    "trainData.drop('Survived',inplace=True,axis=1)\n",
    "\n",
    "#Convert Data to Features\n",
    "trainData.drop('Name',inplace=True,axis=1)\n",
    "trainData.drop('Cabin',inplace=True,axis=1)\n",
    "trainData.drop('Ticket',inplace=True,axis=1)\n",
    "testData.drop('Name',inplace=True,axis=1)\n",
    "testData.drop('Cabin',inplace=True,axis=1)\n",
    "testData.drop('Ticket',inplace=True,axis=1)\n",
    "#Convert String based columns to integer classes\n",
    "trainData[\"Sex\"] = trainData[\"Sex\"].replace(['female','male'],[0,1])\n",
    "testData[\"Sex\"] = testData[\"Sex\"].replace(['female','male'],[0,1])\n",
    "trainData[\"Embarked\"] = trainData[\"Embarked\"].replace(['S','Q','C'],[0,1,2])\n",
    "testData[\"Embarked\"] = testData[\"Embarked\"].replace(['S','Q','C'],[0,1,2])\n",
    "\n",
    "#Remove Nan Values from Train\n",
    "trainData.fillna(value=0,inplace=True)\n",
    "#Dummy values in Test for all NaN\n",
    "testData.fillna(value=trainData['Age'].mean(),inplace=True)\n",
    "testData.fillna(value=trainData['Fare'].mean(),inplace=True)\n",
    "\n",
    "#Test\n",
    "print(YTrain.shape)\n",
    "print(trainData)\n",
    "print(testData.shape)\n",
    "\n",
    "#Train\n",
    "mnb = MultinomialNB();\n",
    "mnb.fit(trainData,YTrain)\n",
    "#Predictions\n",
    "predictions = mnb.predict(testData)\n",
    "print(predictions.shape)\n",
    "\n",
    "submission = pd.DataFrame({\n",
    "        \"PassengerId\": testData[\"PassengerId\"],\n",
    "        \"Survived\": predictions\n",
    "    })\n",
    "submission.to_csv('submission.csv', index=False)"
   ]
  },
  {
   "cell_type": "code",
   "execution_count": null,
   "id": "3103be3e",
   "metadata": {},
   "outputs": [],
   "source": []
  }
 ],
 "metadata": {
  "kernelspec": {
   "display_name": "Python 3",
   "language": "python",
   "name": "python3"
  },
  "language_info": {
   "codemirror_mode": {
    "name": "ipython",
    "version": 3
   },
   "file_extension": ".py",
   "mimetype": "text/x-python",
   "name": "python",
   "nbconvert_exporter": "python",
   "pygments_lexer": "ipython3",
   "version": "3.8.8"
  }
 },
 "nbformat": 4,
 "nbformat_minor": 5
}
